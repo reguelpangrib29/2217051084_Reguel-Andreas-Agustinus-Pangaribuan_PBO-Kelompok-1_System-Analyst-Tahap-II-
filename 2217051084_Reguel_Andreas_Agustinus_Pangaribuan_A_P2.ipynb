{
  "nbformat": 4,
  "nbformat_minor": 0,
  "metadata": {
    "colab": {
      "provenance": [],
      "collapsed_sections": [
        "KOlZz-hPlPqp"
      ],
      "toc_visible": true,
      "authorship_tag": "ABX9TyNEnPoctYiwZXRF8EQ1DyS6",
      "include_colab_link": true
    },
    "kernelspec": {
      "name": "python3",
      "display_name": "Python 3"
    },
    "language_info": {
      "name": "python"
    }
  },
  "cells": [
    {
      "cell_type": "markdown",
      "metadata": {
        "id": "view-in-github",
        "colab_type": "text"
      },
      "source": [
        "<a href=\"https://colab.research.google.com/github/reguelpangrib29/2217051084_Reguel-Andreas-Agustinus-Pangaribuan_PBO-Kelompok-1_System-Analyst-Tahap-II-/blob/main/2217051084_Reguel_Andreas_Agustinus_Pangaribuan_A_P2.ipynb\" target=\"_parent\"><img src=\"https://colab.research.google.com/assets/colab-badge.svg\" alt=\"Open In Colab\"/></a>"
      ]
    },
    {
      "cell_type": "markdown",
      "source": [
        "## Pertemuan 2"
      ],
      "metadata": {
        "id": "a6GafOkmfM1d"
      }
    },
    {
      "cell_type": "markdown",
      "source": [
        "## Library\n",
        "* Install Library\n",
        "* Deklarasi Library\n",
        "* Library bisa disebut dengan sebagai kumpulan kode yang dapat digunakan berulang kali dalam program yang berbeda\n",
        "* https://www.geeksforgeeks.org/libraries-in-python/"
      ],
      "metadata": {
        "id": "2b8Knw5SgyAR"
      }
    },
    {
      "cell_type": "code",
      "source": [
        "import numpy as np\n",
        "import pandas as pd\n",
        "import scipy\n",
        "from scipy.spatial.distance import cityblock, mahalanobis"
      ],
      "metadata": {
        "id": "ohgcxpfMg8j6"
      },
      "execution_count": null,
      "outputs": []
    },
    {
      "cell_type": "markdown",
      "source": [
        "## Dataset"
      ],
      "metadata": {
        "id": "nlm8kC5ch0HH"
      }
    },
    {
      "cell_type": "code",
      "source": [
        "# dataset pertama untuk perhitungan manhattan distances dan euclidean distances\n",
        "P1 = np.array((4,1))\n",
        "P2 = np.array((1,3))\n",
        "\n",
        "# dataset kedua untuk perhitungan mahalanobis distance\n",
        "X = np.array(([7.0, 165, 5], [7.4, 160, 5], [7.1, 170, 4], [7.3, 150, 5], \\\n",
        "              [7.2, 160, 3]))"
      ],
      "metadata": {
        "id": "_YgzW3ZUh42H"
      },
      "execution_count": null,
      "outputs": []
    },
    {
      "cell_type": "code",
      "source": [
        "# info dataset\n",
        "print(X.shape)\n",
        "print(X.ndim)\n",
        "print(X)"
      ],
      "metadata": {
        "colab": {
          "base_uri": "https://localhost:8080/"
        },
        "id": "Et53zR6Tj_bt",
        "outputId": "34a49d9d-bc33-4dcd-e6de-da0f6c7507fb"
      },
      "execution_count": null,
      "outputs": [
        {
          "output_type": "stream",
          "name": "stdout",
          "text": [
            "(5, 3)\n",
            "2\n",
            "[[  7.  165.    5. ]\n",
            " [  7.4 160.    5. ]\n",
            " [  7.1 170.    4. ]\n",
            " [  7.3 150.    5. ]\n",
            " [  7.2 160.    3. ]]\n"
          ]
        }
      ]
    },
    {
      "cell_type": "markdown",
      "source": [
        "## Calculate Distance"
      ],
      "metadata": {
        "id": "KOlZz-hPlPqp"
      }
    },
    {
      "cell_type": "markdown",
      "source": [],
      "metadata": {
        "id": "HCndZe01md4M"
      }
    },
    {
      "cell_type": "markdown",
      "source": [
        "## Manhattan Distance"
      ],
      "metadata": {
        "id": "tSOilOQNlVBy"
      }
    },
    {
      "cell_type": "markdown",
      "source": [
        "Perhitungan jarak berdasarkan arah antar objek vektor"
      ],
      "metadata": {
        "id": "blgJTF2LlZdS"
      }
    },
    {
      "cell_type": "code",
      "source": [
        "mht_dist = cityblock(P1, P2)\n",
        "print(mht_dist)"
      ],
      "metadata": {
        "colab": {
          "base_uri": "https://localhost:8080/"
        },
        "id": "CF2-IP8ili5J",
        "outputId": "2f9e5407-7108-4bea-cb83-0e1cd7ffe692"
      },
      "execution_count": null,
      "outputs": [
        {
          "output_type": "stream",
          "name": "stdout",
          "text": [
            "5\n"
          ]
        }
      ]
    },
    {
      "cell_type": "markdown",
      "source": [
        "## Euclidean Distance"
      ],
      "metadata": {
        "id": "d6Z9xsZDl97J"
      }
    },
    {
      "cell_type": "markdown",
      "source": [
        "Perhitungan jarak berdasarkan teori pytagoras"
      ],
      "metadata": {
        "id": "IiZ0-QeNmUOx"
      }
    },
    {
      "cell_type": "code",
      "source": [
        "# hitung selisih antara dua vectors\n",
        "temp = P1 - P2\n",
        "\n",
        "# gunakan formula euclidean\n",
        "euclid_dist = np.sqrt(np.dot(temp.T, temp))\n",
        "print(np.dot(temp.T, temp))\n",
        "print(euclid_dist)"
      ],
      "metadata": {
        "colab": {
          "base_uri": "https://localhost:8080/"
        },
        "id": "C1PuWam8mR6I",
        "outputId": "cc2f4ccb-3f79-4427-9878-7940b1c17cea"
      },
      "execution_count": null,
      "outputs": [
        {
          "output_type": "stream",
          "name": "stdout",
          "text": [
            "13\n",
            "3.605551275463989\n"
          ]
        }
      ]
    },
    {
      "cell_type": "markdown",
      "source": [
        "## Mahalanobis Distance"
      ],
      "metadata": {
        "id": "WmsueTFAnHm_"
      }
    },
    {
      "cell_type": "markdown",
      "source": [
        "Perhitungan jarak antar sekumpulan data (klaster)"
      ],
      "metadata": {
        "id": "kuGsPQ0qoAB1"
      }
    },
    {
      "cell_type": "code",
      "source": [
        "# Hitung kovarians dan inverse kovarians dari dataset\n",
        "cov = np.cov(X.T)\n",
        "inv_cov = np.linalg.inv(cov)\n",
        "\n",
        "# Dua data baru dalam dataset\n",
        "x1 = np.array([7.1, 145, 3])\n",
        "x2 = np.array([6.0, 100, 5])\n",
        "\n",
        "# Hitung jarak Mahalanobis antara dua kumpulan titik/cluster\n",
        "mhlnbs_dist = mahalanobis(x1, x2, inv_cov)\n",
        "print(mhlnbs_dist)"
      ],
      "metadata": {
        "colab": {
          "base_uri": "https://localhost:8080/"
        },
        "id": "uHyGxz6_nMge",
        "outputId": "c861b730-6ae9-45ea-9b14-9c355c0d717c"
      },
      "execution_count": null,
      "outputs": [
        {
          "output_type": "stream",
          "name": "stdout",
          "text": [
            "15.370699331286659\n"
          ]
        }
      ]
    },
    {
      "cell_type": "markdown",
      "source": [
        "LATIHAN"
      ],
      "metadata": {
        "id": "crLaCU0bDxwM"
      }
    },
    {
      "cell_type": "code",
      "source": [
        "# @title\n",
        "df = pd.DataFrame(\n",
        "    {\n",
        "        \"Diameter (f1)\" : pd.Series([7.0, 7.4, 7.1, 7.3, 7.2]),\n",
        "        \"Berat (f2)\" : pd.Series([145, 100]),\n",
        "        \"Tingkat kemerahan (f3)\" : pd.Series([3, 5]),\n",
        "    }\n",
        ")\n",
        "\n",
        "df = df.append(df2, ignore_index = True)\n",
        "df"
      ],
      "metadata": {
        "id": "UvITVZ2DD1q7"
      },
      "execution_count": null,
      "outputs": []
    }
  ]
}